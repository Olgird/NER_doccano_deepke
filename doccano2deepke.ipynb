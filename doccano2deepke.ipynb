{
 "cells": [
  {
   "cell_type": "code",
   "execution_count": 1,
   "metadata": {},
   "outputs": [],
   "source": [
    "import doccano2deepke"
   ]
  },
  {
   "cell_type": "code",
   "execution_count": 2,
   "metadata": {},
   "outputs": [
    {
     "name": "stdout",
     "output_type": "stream",
     "text": [
      "训练集样本数量： 93\n",
      "验证集样本数量： 11\n",
      "测试集样本数量： 13\n"
     ]
    }
   ],
   "source": [
    "# doccano 导出的jsonl 文件路径\n",
    "jsonl_path = \"example.jsonl\"\n",
    "# 训练集、测试集、验证集比例\n",
    "ratio = [0.8,0.1,0.1]\n",
    "\n",
    "doccano2deepke.ner_doccano2deepke(jsonl_path=jsonl_path,ratio=ratio)\n"
   ]
  }
 ],
 "metadata": {
  "kernelspec": {
   "display_name": "kg",
   "language": "python",
   "name": "python3"
  },
  "language_info": {
   "codemirror_mode": {
    "name": "ipython",
    "version": 3
   },
   "file_extension": ".py",
   "mimetype": "text/x-python",
   "name": "python",
   "nbconvert_exporter": "python",
   "pygments_lexer": "ipython3",
   "version": "3.9.18"
  }
 },
 "nbformat": 4,
 "nbformat_minor": 2
}
